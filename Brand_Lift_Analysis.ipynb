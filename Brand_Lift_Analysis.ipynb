{
  "nbformat": 4,
  "nbformat_minor": 0,
  "metadata": {
    "colab": {
      "provenance": []
    },
    "kernelspec": {
      "name": "python3",
      "display_name": "Python 3"
    },
    "language_info": {
      "name": "python"
    }
  },
  "cells": [
    {
      "cell_type": "markdown",
      "source": [
        "I will apply Google Brand Lift to estimating lift from TrueView advertising campaigns, with surveys on YouTube. In this case we use a randomized experiment. Users are assigned to experiment (i.e. treatment) or control using random number generation based on a\n",
        "hashed version of their cookies.\n",
        "\n",
        "Below I have addressed different stages of the advertising funnel: ad recall, brand awareness, consideration, etc.\n",
        "\n",
        "For example, for ad recall a typical multiple choice question is: “Which of the following online ads have you seen recently?”, where one of the choices\n",
        "is the target brand. Similarly, a brand awareness question is “Which of the following brands have you heard of?”\n",
        "\n",
        "The dataset I used includes data from one campaign and a single question about recall.  More details on the data are given below.\n",
        "\n",
        "Data comes from three different sources: Exposures, survey solicitations, and survey responses. Each file is a CSV file and will contain a header with column names.  The timestamp in all files is \"Unix Time\" - which is the number of seconds since Jan 1st, 1970. More information is available [here](https://en.wikipedia.org/wiki/Unix_time). For exposure data, the columns are:\n",
        "* timestamp: time of the exposure\n",
        "* user_id: a unique identifier for the user\n",
        "* group: whether the user was assigned to the control group, or the experiment group.\n",
        "* gender: Female (F), Male (M), or Other/Uknown (O)\n",
        "* age: five different age buckets <p>\n",
        "\n",
        "For survey solicitations, the columns are:\n",
        "\n",
        "* user_id: a unique identifier for the user.\n",
        "* timestamp: time of the survey solicitation <p>\n",
        "\n",
        "For responses, the columns are:\n",
        "\n",
        "* user_id: a unique identifier for the user.\n",
        "* timestamp: the timestamp of the response\n",
        "* positive response: 0 or 1, where 1 indicates the user responded positively (i.e. the \"correct answer\" to the question.)\n",
        "\n",
        "Warning -> We can simply join the data sources as they are. If you attempt this, you will get results that do not make sense.  Specifically, the exposure data contains multiple exposures per user, and you should carefully consider how you will handle this.\n"
      ],
      "metadata": {
        "id": "NVz-OLdC-Qsm"
      }
    },
    {
      "cell_type": "code",
      "source": [
        "# Importing Packages\n",
        "\n",
        "import numpy as np\n",
        "import pandas as pd\n",
        "import matplotlib.pyplot as plt\n",
        "import seaborn as sns"
      ],
      "metadata": {
        "id": "67LcQ_3S_8EX"
      },
      "execution_count": 1,
      "outputs": []
    },
    {
      "cell_type": "code",
      "execution_count": 2,
      "metadata": {
        "id": "QDYsjNp19-B4"
      },
      "outputs": [],
      "source": [
        "exposures_url = 'https://github.com/hangingbelay/spring2024/raw/main/homework_2_exposures.csv.gz'\n",
        "exposure_data = pd.read_csv(exposures_url)\n",
        "\n",
        "solicitations_url = 'https://github.com/hangingbelay/spring2024/raw/main/homework_2_solicitations.csv.gz'\n",
        "solicitation_data = pd.read_csv(solicitations_url)\n",
        "\n",
        "responses_url = 'https://github.com/hangingbelay/spring2024/raw/main/homework_2_responses.csv.gz'\n",
        "response_data = pd.read_csv(responses_url)"
      ]
    },
    {
      "cell_type": "code",
      "source": [
        "# Dataset Summary\n",
        "\n",
        "# Exposure Data\n",
        "print(exposure_data.info())\n",
        "print('\\n')\n",
        "\n",
        "# Solicitation Data\n",
        "print(solicitation_data.info())\n",
        "print('\\n')\n",
        "\n",
        "# Response Data\n",
        "print(response_data.info())\n"
      ],
      "metadata": {
        "colab": {
          "base_uri": "https://localhost:8080/"
        },
        "id": "jrsbgCny-i7u",
        "outputId": "ec16909f-bbc3-4aa8-c02c-f2c85517511b"
      },
      "execution_count": 3,
      "outputs": [
        {
          "output_type": "stream",
          "name": "stdout",
          "text": [
            "<class 'pandas.core.frame.DataFrame'>\n",
            "RangeIndex: 2169810 entries, 0 to 2169809\n",
            "Data columns (total 5 columns):\n",
            " #   Column     Dtype \n",
            "---  ------     ----- \n",
            " 0   timestamp  int64 \n",
            " 1   user_id    int64 \n",
            " 2   group      object\n",
            " 3   gender     object\n",
            " 4   age        object\n",
            "dtypes: int64(2), object(3)\n",
            "memory usage: 82.8+ MB\n",
            "None\n",
            "\n",
            "\n",
            "<class 'pandas.core.frame.DataFrame'>\n",
            "RangeIndex: 104619 entries, 0 to 104618\n",
            "Data columns (total 2 columns):\n",
            " #   Column     Non-Null Count   Dtype\n",
            "---  ------     --------------   -----\n",
            " 0   user_id    104619 non-null  int64\n",
            " 1   timestamp  104619 non-null  int64\n",
            "dtypes: int64(2)\n",
            "memory usage: 1.6 MB\n",
            "None\n",
            "\n",
            "\n",
            "<class 'pandas.core.frame.DataFrame'>\n",
            "RangeIndex: 73149 entries, 0 to 73148\n",
            "Data columns (total 3 columns):\n",
            " #   Column             Non-Null Count  Dtype\n",
            "---  ------             --------------  -----\n",
            " 0   user_id            73149 non-null  int64\n",
            " 1   timestamp          73149 non-null  int64\n",
            " 2   positive_response  73149 non-null  int64\n",
            "dtypes: int64(3)\n",
            "memory usage: 1.7 MB\n",
            "None\n"
          ]
        }
      ]
    },
    {
      "cell_type": "code",
      "source": [
        "# Datasets First 6 Rows\n",
        "\n",
        "# Exposure Data\n",
        "print(exposure_data.head())\n",
        "print('\\n')\n",
        "\n",
        "# Solicitation Data\n",
        "print(solicitation_data.head())\n",
        "print('\\n')\n",
        "\n",
        "# Response Data\n",
        "print(response_data.head())\n"
      ],
      "metadata": {
        "colab": {
          "base_uri": "https://localhost:8080/"
        },
        "id": "nhlFQlc4-mNo",
        "outputId": "8720af07-f176-486e-a0fd-c7173053ed78"
      },
      "execution_count": 4,
      "outputs": [
        {
          "output_type": "stream",
          "name": "stdout",
          "text": [
            "    timestamp   user_id       group gender    age\n",
            "0  1706770800  80936544     CONTROL      M  18-29\n",
            "1  1706770800  87175094     CONTROL      F  40-49\n",
            "2  1706770803  49589178  EXPERIMENT      M    65+\n",
            "3  1706770805   3867881  EXPERIMENT      F  30-39\n",
            "4  1706770807  35409191  EXPERIMENT      F  18-29\n",
            "\n",
            "\n",
            "   user_id   timestamp\n",
            "0  1000602  1707900206\n",
            "1  1001043  1707366013\n",
            "2  1001466  1707475365\n",
            "3  1002204  1707338185\n",
            "4  1002206  1708109310\n",
            "\n",
            "\n",
            "   user_id   timestamp  positive_response\n",
            "0  1001466  1707475374                  0\n",
            "1  1002204  1707338195                  0\n",
            "2  1002206  1708109315                  0\n",
            "3  1004063  1707105330                  0\n",
            "4  1005165  1708058353                  0\n"
          ]
        }
      ]
    },
    {
      "cell_type": "markdown",
      "source": [
        "### Comparing Proportions from two different groups\n",
        "\n",
        "One of the key metrics we are interested in analyzing is the difference in the proportion of positive responses between the experiment group and the control group.  \n",
        "\n",
        "It is important to not only look at the point estimates, but also the uncertainty of those estimates.  This helps understand if observed differences are due to chance or due to a real underlying effect.\n",
        "\n",
        "Here I am using the point estimates for the **difference** in response rate between the experiment group and control group, and a confidence interval on this difference.  This is a more direct and natural way to compare the differences between two groups.\n",
        "\n",
        "For example, suppose that the response rate in the experiment group is 50%, and the response rate in the control group is 42%.  The difference is 50% - 42% = 8%.  If we know the sample sizes from each group, we can also compute a confidence interval (code is given below).  Suppose the confidence interval is from 2% - 14%.  In this case, we would say that the difference between the experiment group and control group is statistically different from zero since the lower bound of the confidence interval is greater than 0.  This indicates there is only a small chance that these results are due to randomness, and the difference is due to a real effect.\n",
        "\n",
        "If the confidence interval did include 0 (i.e. the lower bound is negative and the upper bound is positive) then the difference could be due to random chance.\n",
        "\n",
        "Here is a function you can use with a groupby statement to output both a point estimate of the difference and the confidence interval for the difference.  Please copy this code directly and use it."
      ],
      "metadata": {
        "id": "ch_nPzYy-sM6"
      }
    },
    {
      "cell_type": "code",
      "source": [
        "def two_sample_conf_interval(df):\n",
        "  critical_value = 1.96\n",
        "  exp_data = df[df['group'] == \"EXPERIMENT\"]\n",
        "  p1 = exp_data['positive_response'].mean()\n",
        "  se_1 = 0\n",
        "  if exp_data.shape[0] > 0:\n",
        "    se_1 = np.sqrt(p1 * (1 - p1) / exp_data.shape[0])\n",
        "\n",
        "  control_data = df[df['group'] == \"CONTROL\"]\n",
        "  p2 = control_data['positive_response'].mean()\n",
        "  se_2 = 0\n",
        "  if control_data.shape[0] > 0:\n",
        "    se_2 = np.sqrt(p2 * (1 - p2) / control_data.shape[0])\n",
        "\n",
        "  se = np.sqrt(se_1*se_1 + se_2*se_2)\n",
        "\n",
        "  p_diff = p1 - p2\n",
        "  return pd.Series([p_diff.round(4), \"(%.4f - %.4f)\" % (p_diff - critical_value * se, p_diff + critical_value * se)],\n",
        "                   index=['diff', 'conf interval'])"
      ],
      "metadata": {
        "id": "PXmzbF7X-s2w"
      },
      "execution_count": 5,
      "outputs": []
    },
    {
      "cell_type": "markdown",
      "source": [
        "You can use this function with a groupby statement, assuming your dataframe has columns named \"group\" and \"positive_response\" (which are the column names in the data you are given).  \n",
        "\n",
        "To do so, we use the 'apply()' method for groupby.  \n",
        "\n",
        "**Note:** that we **DO NOT** use 'group' as one of the groupby variables.  If you do this, you will get a result with all NaNs.  \n",
        "\n",
        "Here is an example of how to correctly use this:\n",
        "\n",
        "```\n",
        "# assume df has column names gender, group, positive_response\n",
        "df.groupby(['gender']).apply(two_sample_conf_interval)\n",
        "```\n",
        "\n",
        "Here I will compute the key results of the overall experiment"
      ],
      "metadata": {
        "id": "b2sp4UjR-v6L"
      }
    },
    {
      "cell_type": "code",
      "source": [
        "# Convert timestamp to datetime\n",
        "\n",
        "exposure_data['timestamp'] = pd.to_datetime(exposure_data['timestamp'], unit='s')\n",
        "\n",
        "solicitation_data['timestamp'] = pd.to_datetime(solicitation_data['timestamp'], unit='s')\n",
        "\n",
        "response_data['timestamp'] = pd.to_datetime(response_data['timestamp'], unit='s')"
      ],
      "metadata": {
        "id": "k8Aqy81s-wag"
      },
      "execution_count": 6,
      "outputs": []
    },
    {
      "cell_type": "code",
      "source": [
        "# Checking for outliers in data\n",
        "\n",
        "exposure_counts = exposure_data['user_id'].value_counts()\n",
        "\n",
        "# Set the size of the plot\n",
        "plt.figure(figsize=(8, 6))\n",
        "\n",
        "# Create the box plot using Seaborn\n",
        "sns.boxplot(x=exposure_counts, color='skyblue')\n",
        "\n",
        "# Set plot title and labels\n",
        "plt.title('Distribution of User Exposure Counts', fontsize=16)\n",
        "plt.xlabel('Exposure Count', fontsize=14)\n",
        "plt.ylabel('Frequency', fontsize=14)\n",
        "\n",
        "# Show the plot\n",
        "plt.show()\n",
        "\n",
        "# Calculating the quartiles and IQR\n",
        "Q1 = exposure_counts.quantile(0.25)\n",
        "Q3 = exposure_counts.quantile(0.75)\n",
        "IQR = Q3 - Q1\n",
        "\n",
        "# Calculate upper and lower bounds\n",
        "upper_bound = Q3 + 1.5 * IQR\n",
        "lower_bound = Q1 - 1.5 * IQR\n",
        "\n",
        "# Detect the Outliers\n",
        "outlier_list = exposure_counts[(exposure_counts > upper_bound) | (exposure_counts < lower_bound)]\n",
        "\n",
        "print(f\"\\nNumber of outliers: {len(outlier_list)}\")\n",
        "\n",
        "print(\"\\nOutliers:\")\n",
        "print(outlier_list)"
      ],
      "metadata": {
        "colab": {
          "base_uri": "https://localhost:8080/",
          "height": 1000
        },
        "id": "kYRCtJyh-1sx",
        "outputId": "7d9232fc-f837-402d-a966-60c80322ff3c"
      },
      "execution_count": 7,
      "outputs": [
        {
          "output_type": "display_data",
          "data": {
            "text/plain": [
              "<Figure size 800x600 with 1 Axes>"
            ],
            "image/png": "[encoded data removed]"
          },
          "metadata": {}
        },
        {
          "output_type": "stream",
          "name": "stdout",
          "text": [
            "\n",
            "Number of outliers: 36\n",
            "\n",
            "Outliers:\n",
            "user_id\n",
            "34182077    9967\n",
            "79669730    9197\n",
            "63556434    8856\n",
            "66926743    8831\n",
            "99299209    7877\n",
            "31651821    7736\n",
            "47233356    7546\n",
            "22602415    7527\n",
            "33079874    7295\n",
            "81305319    6823\n",
            "23015855    6774\n",
            "23800997    6652\n",
            "85481707    6541\n",
            "12855128    5746\n",
            "31000189    5527\n",
            "28479729    5261\n",
            "67722790    5244\n",
            "45227429    5014\n",
            "30044379    4525\n",
            "96606418    3904\n",
            "63492801    3298\n",
            "73724469    3027\n",
            "32197113    2558\n",
            "33661379    2186\n",
            "18312665    2186\n",
            "82269980    1881\n",
            "43154350    1784\n",
            "2848378     1762\n",
            "24220692    1185\n",
            "15637817     915\n",
            "29116819     586\n",
            "2077598      336\n",
            "37797678     333\n",
            "83416469     333\n",
            "40796383     274\n",
            "89745429     258\n",
            "Name: count, dtype: int64\n"
          ]
        }
      ]
    },
    {
      "cell_type": "code",
      "source": [
        "# Filtering out the dataframes to remove duplicates and get unique users with the last timestamp\n",
        "\n",
        "# Filter exposure_data for unique users with the last timestamp\n",
        "filtered_exposure_data = exposure_data.loc[exposure_data.groupby('user_id')['timestamp'].idxmax()]\n",
        "\n",
        "# Filter solicitation_data for unique users with the last timestamp\n",
        "filtered_solicitation_data = solicitation_data.loc[solicitation_data.groupby('user_id')['timestamp'].idxmax()]\n",
        "\n",
        "# Filter response_data for unique users with the last timestamp\n",
        "filtered_response_data = response_data.loc[response_data.groupby('user_id')['timestamp'].idxmax()]"
      ],
      "metadata": {
        "id": "NyTJrV-k-4jP"
      },
      "execution_count": 8,
      "outputs": []
    },
    {
      "cell_type": "code",
      "source": [
        "# Exposure Data\n",
        "print(filtered_exposure_data.info())\n",
        "print('\\n')\n",
        "\n",
        "# Solicitation Data\n",
        "print(filtered_solicitation_data.info())\n",
        "print('\\n')\n",
        "\n",
        "# Response Data\n",
        "print(filtered_response_data.info())"
      ],
      "metadata": {
        "colab": {
          "base_uri": "https://localhost:8080/"
        },
        "id": "R_IANHer-5_Q",
        "outputId": "fc632c28-92b6-41b8-8b41-76029aafbb78"
      },
      "execution_count": 9,
      "outputs": [
        {
          "output_type": "stream",
          "name": "stdout",
          "text": [
            "<class 'pandas.core.frame.DataFrame'>\n",
            "Index: 1000000 entries, 1275682 to 1727300\n",
            "Data columns (total 5 columns):\n",
            " #   Column     Non-Null Count    Dtype         \n",
            "---  ------     --------------    -----         \n",
            " 0   timestamp  1000000 non-null  datetime64[ns]\n",
            " 1   user_id    1000000 non-null  int64         \n",
            " 2   group      1000000 non-null  object        \n",
            " 3   gender     1000000 non-null  object        \n",
            " 4   age        1000000 non-null  object        \n",
            "dtypes: datetime64[ns](1), int64(1), object(3)\n",
            "memory usage: 45.8+ MB\n",
            "None\n",
            "\n",
            "\n",
            "<class 'pandas.core.frame.DataFrame'>\n",
            "Index: 104619 entries, 0 to 104618\n",
            "Data columns (total 2 columns):\n",
            " #   Column     Non-Null Count   Dtype         \n",
            "---  ------     --------------   -----         \n",
            " 0   user_id    104619 non-null  int64         \n",
            " 1   timestamp  104619 non-null  datetime64[ns]\n",
            "dtypes: datetime64[ns](1), int64(1)\n",
            "memory usage: 2.4 MB\n",
            "None\n",
            "\n",
            "\n",
            "<class 'pandas.core.frame.DataFrame'>\n",
            "Index: 73149 entries, 0 to 73148\n",
            "Data columns (total 3 columns):\n",
            " #   Column             Non-Null Count  Dtype         \n",
            "---  ------             --------------  -----         \n",
            " 0   user_id            73149 non-null  int64         \n",
            " 1   timestamp          73149 non-null  datetime64[ns]\n",
            " 2   positive_response  73149 non-null  int64         \n",
            "dtypes: datetime64[ns](1), int64(2)\n",
            "memory usage: 2.2 MB\n",
            "None\n"
          ]
        }
      ]
    },
    {
      "cell_type": "code",
      "source": [
        "# Checking for null values\n",
        "\n",
        "print(filtered_exposure_data.isnull().sum())\n",
        "print('\\n')\n",
        "print(filtered_solicitation_data.isnull().sum())\n",
        "print('\\n')\n",
        "print(filtered_response_data.isnull().sum())"
      ],
      "metadata": {
        "colab": {
          "base_uri": "https://localhost:8080/"
        },
        "id": "DQYRt3jg-6tZ",
        "outputId": "35902140-00e8-4294-dc48-be361b2846af"
      },
      "execution_count": 10,
      "outputs": [
        {
          "output_type": "stream",
          "name": "stdout",
          "text": [
            "timestamp    0\n",
            "user_id      0\n",
            "group        0\n",
            "gender       0\n",
            "age          0\n",
            "dtype: int64\n",
            "\n",
            "\n",
            "user_id      0\n",
            "timestamp    0\n",
            "dtype: int64\n",
            "\n",
            "\n",
            "user_id              0\n",
            "timestamp            0\n",
            "positive_response    0\n",
            "dtype: int64\n"
          ]
        }
      ]
    },
    {
      "cell_type": "code",
      "source": [
        "# Computing Solicitation Gap\n",
        "\n",
        "# Merge exposure_data and solicitation_data\n",
        "merged_data_soliGap = pd.merge(filtered_exposure_data, filtered_solicitation_data, on='user_id', suffixes=('_exposure', '_solicitation'), how = 'right')\n",
        "\n",
        "# Checking for only Experiment Group\n",
        "merged_data_soliGap = merged_data_soliGap[merged_data_soliGap['group'] == 'EXPERIMENT']\n",
        "\n",
        "# Compute solicitation gap in days\n",
        "merged_data_soliGap['solicitation_gap'] = (merged_data_soliGap['timestamp_solicitation'] - merged_data_soliGap['timestamp_exposure']).dt.total_seconds()\n",
        "merged_data_soliGap['solicitation_gap'] = merged_data_soliGap['solicitation_gap'] / (60 * 60 * 24)\n",
        "\n",
        "# Group the data based on solicitation gap and count the occurrences\n",
        "grouped_data_soliGap = merged_data_soliGap.groupby('solicitation_gap').size().reset_index(name='count')\n",
        "\n",
        "print(\"Grouped Data based on Solicitation Gap:\")\n",
        "print(grouped_data_soliGap)\n",
        "\n",
        "# Set the size of the plot\n",
        "plt.figure(figsize=(10, 6))\n",
        "\n",
        "# Plot the boxplot using Seaborn\n",
        "sns.boxplot(x='solicitation_gap', data=grouped_data_soliGap, color='skyblue')\n",
        "\n",
        "# Set plot title and labels\n",
        "plt.title('Distribution of Solicitation Gap', fontsize=16)\n",
        "plt.xlabel('Solicitation Gap (Days)', fontsize=14)\n",
        "plt.ylabel('Count', fontsize=14)\n",
        "\n",
        "# Show the plot\n",
        "plt.show()"
      ],
      "metadata": {
        "colab": {
          "base_uri": "https://localhost:8080/",
          "height": 839
        },
        "id": "6g7A3LZY-9ki",
        "outputId": "e15b78f9-b854-45b2-ccaa-b797479adcd8"
      },
      "execution_count": 11,
      "outputs": [
        {
          "output_type": "stream",
          "name": "stdout",
          "text": [
            "Grouped Data based on Solicitation Gap:\n",
            "       solicitation_gap  count\n",
            "0              1.038171      1\n",
            "1              1.048692      1\n",
            "2              1.054271      1\n",
            "3              1.058426      1\n",
            "4              1.062326      1\n",
            "...                 ...    ...\n",
            "45820          6.995012      1\n",
            "45821          6.995637      1\n",
            "45822          6.995660      1\n",
            "45823          6.998530      1\n",
            "45824          6.999363      1\n",
            "\n",
            "[45825 rows x 2 columns]\n"
          ]
        },
        {
          "output_type": "display_data",
          "data": {
            "text/plain": [
              "<Figure size 1000x600 with 1 Axes>"
            ],
            "image/png": "[encoded data removed]"
          },
          "metadata": {}
        }
      ]
    },
    {
      "cell_type": "code",
      "source": [
        "# Merge with filtered_response_data for solicitation gaps less than 4 days\n",
        "response_data_less_than_4 = pd.merge(merged_data_soliGap[merged_data_soliGap['solicitation_gap'] < 4],\n",
        "                                      filtered_response_data,\n",
        "                                      on='user_id',\n",
        "                                      how='inner')\n",
        "\n",
        "# Merge with filtered_response_data for solicitation gaps greater than 4 days\n",
        "response_data_greater_than_4 = pd.merge(merged_data_soliGap[merged_data_soliGap['solicitation_gap'] >= 4],\n",
        "                                         filtered_response_data,\n",
        "                                         on='user_id',\n",
        "                                         how='inner')\n",
        "\n",
        "# Calculate total positive responses for each group\n",
        "total_positive_responses_less_than_4 = response_data_less_than_4['positive_response'].sum()\n",
        "total_positive_responses_greater_than_4 = response_data_greater_than_4['positive_response'].sum()\n",
        "\n",
        "# Calculate total responses for each group\n",
        "total_responses_less_than_4 = response_data_less_than_4.shape[0]\n",
        "total_responses_greater_than_4 = response_data_greater_than_4.shape[0]\n",
        "\n",
        "# Calculate response rate for solicitation gaps less than 4 days\n",
        "response_rate_less_than_4 = (total_positive_responses_less_than_4 / total_responses_less_than_4) * 100\n",
        "\n",
        "# Calculate response rate for solicitation gaps greater than 4 days\n",
        "response_rate_greater_than_4 = (total_positive_responses_greater_than_4 / total_responses_greater_than_4) * 100\n",
        "\n",
        "print(\"Response Rate for Solicitation Gaps Less Than 4 Days:\", response_rate_less_than_4.round(2))\n",
        "print(\"Response Rate for Solicitation Gaps Greater Than 4 Days:\", response_rate_greater_than_4.round(2))"
      ],
      "metadata": {
        "colab": {
          "base_uri": "https://localhost:8080/"
        },
        "id": "3udwIDhQ-_op",
        "outputId": "13e60f75-6fd7-4069-8fbf-41bc23e399c4"
      },
      "execution_count": 12,
      "outputs": [
        {
          "output_type": "stream",
          "name": "stdout",
          "text": [
            "Response Rate for Solicitation Gaps Less Than 4 Days: 12.89\n",
            "Response Rate for Solicitation Gaps Greater Than 4 Days: 25.73\n"
          ]
        }
      ]
    },
    {
      "cell_type": "code",
      "source": [
        "# Merge exposure_data and solicitation_data for both CONTROL and EXPERIMENT groups\n",
        "merged_data_control = pd.merge(filtered_exposure_data[filtered_exposure_data['group'] == 'CONTROL'], filtered_solicitation_data, on='user_id', suffixes=('_exposure', '_solicitation'), how='right')\n",
        "merged_data_experiment = pd.merge(filtered_exposure_data[filtered_exposure_data['group'] == 'EXPERIMENT'], filtered_solicitation_data, on='user_id', suffixes=('_exposure', '_solicitation'), how='right')\n",
        "\n",
        "# Compute solicitation gap in days for CONTROL group\n",
        "merged_data_control['solicitation_gap'] = (merged_data_control['timestamp_solicitation'] - merged_data_control['timestamp_exposure']).dt.total_seconds() / (60 * 60 * 24)\n",
        "\n",
        "# Compute solicitation gap in days for EXPERIMENT group\n",
        "merged_data_experiment['solicitation_gap'] = (merged_data_experiment['timestamp_solicitation'] - merged_data_experiment['timestamp_exposure']).dt.total_seconds() / (60 * 60 * 24)\n",
        "\n",
        "# Plot histograms for solicitation gap for both groups\n",
        "fig, axes = plt.subplots(1, 2, figsize=(12, 6))\n",
        "\n",
        "# Plot histogram for CONTROL group\n",
        "axes[0].hist(merged_data_control['solicitation_gap'], bins=20, alpha=0.5, color='blue')\n",
        "axes[0].set_title('CONTROL Group')\n",
        "axes[0].set_xlabel('Solicitation Gap (days)')\n",
        "axes[0].set_ylabel('Frequency')\n",
        "\n",
        "# Plot histogram for EXPERIMENT group\n",
        "axes[1].hist(merged_data_experiment['solicitation_gap'], bins=20, alpha=0.5, color='green')\n",
        "axes[1].set_title('EXPERIMENT Group')\n",
        "axes[1].set_xlabel('Solicitation Gap (days)')\n",
        "axes[1].set_ylabel('Frequency')\n",
        "\n",
        "plt.tight_layout()\n",
        "\n",
        "plt.show()"
      ],
      "metadata": {
        "colab": {
          "base_uri": "https://localhost:8080/",
          "height": 607
        },
        "id": "52K-UvTi_BK5",
        "outputId": "2748070d-605f-486b-d5e1-6ae89eda1416"
      },
      "execution_count": 13,
      "outputs": [
        {
          "output_type": "display_data",
          "data": {
            "text/plain": [
              "<Figure size 1200x600 with 2 Axes>"
            ],
            "image/png": "[encoded data removed]"
          },
          "metadata": {}
        }
      ]
    },
    {
      "cell_type": "code",
      "source": [
        "# Computing the solicitation rate\n",
        "\n",
        "# Merge filtered exposure_data with response_data to get exposed users who were solicited\n",
        "exposed_and_solicited = pd.merge(filtered_exposure_data, filtered_solicitation_data, on='user_id', how='inner')\n",
        "\n",
        "# Calculate overall solicitation rate\n",
        "overall_solicitation_rate = (len(exposed_and_solicited) / len(filtered_exposure_data)) * 100\n",
        "\n",
        "# Calculate the number of exposed users in each group\n",
        "exposed_users_grouped = filtered_exposure_data.groupby('group').size().reset_index(name='exposed_count')\n",
        "\n",
        "# Calculate the number of exposed users who were solicited in each group\n",
        "solicited_users_grouped = exposed_and_solicited.groupby('group').size().reset_index(name='solicited_count')\n",
        "\n",
        "# Merge exposed and solicited counts by group\n",
        "grouped_data = pd.merge(exposed_users_grouped, solicited_users_grouped, on='group', how='left')\n",
        "\n",
        "# Calculate solicitation rate for each group\n",
        "grouped_data['solicitation_rate'] = (grouped_data['solicited_count'] / grouped_data['exposed_count']) * 100\n",
        "\n",
        "print(\"Overall Solicitation Rate:\",round(overall_solicitation_rate, 3))\n",
        "print(\"\\nSolicitation Rate by Group:\")\n",
        "print(grouped_data[['group', 'solicitation_rate']])"
      ],
      "metadata": {
        "colab": {
          "base_uri": "https://localhost:8080/"
        },
        "id": "ExMnhoSu_CqR",
        "outputId": "564ef56b-35e0-4358-98e6-c48be75fbe25"
      },
      "execution_count": 14,
      "outputs": [
        {
          "output_type": "stream",
          "name": "stdout",
          "text": [
            "Overall Solicitation Rate: 10.462\n",
            "\n",
            "Solicitation Rate by Group:\n",
            "        group  solicitation_rate\n",
            "0     CONTROL          17.438067\n",
            "1  EXPERIMENT           7.470334\n"
          ]
        }
      ]
    },
    {
      "cell_type": "code",
      "source": [
        "# Computing the response rate (positive response rate)\n",
        "\n",
        "# Merge filtered exposure_data with response_data to get exposed users who responded\n",
        "exposed_and_responded = pd.merge(filtered_exposure_data, filtered_response_data, on='user_id', how='inner')\n",
        "\n",
        "# Calculate overall response rate\n",
        "overall_response_rate = (exposed_and_responded['positive_response'].sum() / len(exposed_and_responded)) * 100\n",
        "\n",
        "# Calculate the number of positive responses and total number of responses for each group\n",
        "responses_grouped = exposed_and_responded.groupby('group')['positive_response'].agg(['sum', 'count']).reset_index()\n",
        "\n",
        "# Calculate response rate for each group\n",
        "responses_grouped['response_rate'] = (responses_grouped['sum'] / responses_grouped['count']) * 100\n",
        "\n",
        "\n",
        "print(\"Overall Response Rate:\",round(overall_response_rate, 3))\n",
        "print(\"\\nResponse Rate by Group:\")\n",
        "print(responses_grouped[['group', 'response_rate']])"
      ],
      "metadata": {
        "colab": {
          "base_uri": "https://localhost:8080/"
        },
        "id": "-ov2gsXs_EKL",
        "outputId": "3fcb98cc-21c6-4887-87e1-047317758f9c"
      },
      "execution_count": 15,
      "outputs": [
        {
          "output_type": "stream",
          "name": "stdout",
          "text": [
            "Overall Response Rate: 12.831\n",
            "\n",
            "Response Rate by Group:\n",
            "        group  response_rate\n",
            "0     CONTROL      11.796599\n",
            "1  EXPERIMENT      13.862954\n"
          ]
        }
      ]
    },
    {
      "cell_type": "code",
      "source": [
        "# Confidence Intervals\n",
        "\n",
        "merged_data = pd.merge(filtered_exposure_data, filtered_response_data, on = 'user_id', how = 'left')\n",
        "\n",
        "# Age\n",
        "print('Age:')\n",
        "print(merged_data.groupby(['gender']).apply(two_sample_conf_interval))\n",
        "\n",
        "# Gender\n",
        "print('\\nGender:')\n",
        "print(merged_data.groupby(['age']).apply(two_sample_conf_interval))\n",
        "\n",
        "# Gender & Age\n",
        "print('\\nGender & Age:')\n",
        "print(merged_data.groupby(['gender', 'age']).apply(two_sample_conf_interval))"
      ],
      "metadata": {
        "colab": {
          "base_uri": "https://localhost:8080/"
        },
        "id": "LXIS3ASd_F5B",
        "outputId": "e25a6675-19d3-4f39-8fae-2d6b5cc883da"
      },
      "execution_count": 16,
      "outputs": [
        {
          "output_type": "stream",
          "name": "stdout",
          "text": [
            "Age:\n"
          ]
        },
        {
          "output_type": "stream",
          "name": "stderr",
          "text": [
            "<ipython-input-16-e108303fd18c>:7: DeprecationWarning: DataFrameGroupBy.apply operated on the grouping columns. This behavior is deprecated, and in a future version of pandas the grouping columns will be excluded from the operation. Either pass `include_groups=False` to exclude the groupings or explicitly select the grouping columns after groupby to silence this warning.\n",
            "  print(merged_data.groupby(['gender']).apply(two_sample_conf_interval))\n"
          ]
        },
        {
          "output_type": "stream",
          "name": "stdout",
          "text": [
            "          diff      conf interval\n",
            "gender                           \n",
            "F       0.0342  (0.0322 - 0.0362)\n",
            "M       0.0073  (0.0053 - 0.0093)\n",
            "O       0.0181  (0.0080 - 0.0282)\n",
            "\n",
            "Gender:\n"
          ]
        },
        {
          "output_type": "stream",
          "name": "stderr",
          "text": [
            "<ipython-input-16-e108303fd18c>:11: DeprecationWarning: DataFrameGroupBy.apply operated on the grouping columns. This behavior is deprecated, and in a future version of pandas the grouping columns will be excluded from the operation. Either pass `include_groups=False` to exclude the groupings or explicitly select the grouping columns after groupby to silence this warning.\n",
            "  print(merged_data.groupby(['age']).apply(two_sample_conf_interval))\n"
          ]
        },
        {
          "output_type": "stream",
          "name": "stdout",
          "text": [
            "         diff      conf interval\n",
            "age                             \n",
            "18-29  0.0185  (0.0152 - 0.0219)\n",
            "30-39  0.0256  (0.0224 - 0.0288)\n",
            "40-49  0.0363  (0.0336 - 0.0390)\n",
            "50-64  0.0041  (0.0009 - 0.0072)\n",
            "65+    0.0105  (0.0070 - 0.0141)\n",
            "\n",
            "Gender & Age:\n",
            "                diff        conf interval\n",
            "gender age                               \n",
            "F      18-29  0.0242    (0.0194 - 0.0290)\n",
            "       30-39  0.0522    (0.0475 - 0.0569)\n",
            "       40-49  0.0671    (0.0632 - 0.0710)\n",
            "       50-64  0.0020   (-0.0024 - 0.0065)\n",
            "       65+    0.0065    (0.0014 - 0.0115)\n",
            "M      18-29  0.0160    (0.0112 - 0.0207)\n",
            "       30-39  0.0022   (-0.0023 - 0.0066)\n",
            "       40-49  0.0030   (-0.0009 - 0.0068)\n",
            "       50-64  0.0070    (0.0026 - 0.0115)\n",
            "       65+    0.0125    (0.0074 - 0.0176)\n",
            "O      18-29 -0.0520  (-0.0795 - -0.0246)\n",
            "       30-39 -0.0397  (-0.0603 - -0.0191)\n",
            "       40-49  0.1055    (0.0878 - 0.1233)\n",
            "       50-64 -0.0178   (-0.0416 - 0.0060)\n",
            "       65+    0.0622    (0.0367 - 0.0878)\n"
          ]
        },
        {
          "output_type": "stream",
          "name": "stderr",
          "text": [
            "<ipython-input-16-e108303fd18c>:15: DeprecationWarning: DataFrameGroupBy.apply operated on the grouping columns. This behavior is deprecated, and in a future version of pandas the grouping columns will be excluded from the operation. Either pass `include_groups=False` to exclude the groupings or explicitly select the grouping columns after groupby to silence this warning.\n",
            "  print(merged_data.groupby(['gender', 'age']).apply(two_sample_conf_interval))\n"
          ]
        }
      ]
    },
    {
      "cell_type": "markdown",
      "source": [
        "Summarize your results for question #1 here.\n",
        "\n",
        "The Overall Results:\n",
        "\n",
        "1. Out of the original 2169810 number of rows in exposure dataset, there are 1000000 unique users who were exposed to an advertisement, 104619 users were given a survey and 73149 users responded to the survey.\n",
        "\n",
        "2. Upon computing the solicitation gap, the majority of the users were given a survey 2 days after they were last exposed to an advertisement. The 2nd highest number of users fall under the category of 1 day (solicitation gap).\n",
        "\n",
        "3. The overall solicitation rate is 10.462%. When looking at each group, the control group has a higher solicitation rate of 17.43% while the experiment group only has 7.47%.\n",
        "\n",
        "4. The overall reponse rate is 12.831%. Group wise, the control group showed a lower response rate of 11.79% than the experiment group which has a response rate of 13.86%\n",
        "\n",
        "5. Analysing the solicitation gap (Experiment Group), users solicited after a solicitation gap equal to or greater than 4 days exhibited a substantially higher response rate of 25.73% compared to those with solicitation gaps less than 4 days, indicating a potential opportunity to leverage delayed engagement for enhanced campaign effectiveness.\n",
        "\n",
        "6. Analysed the solicitation gap for both CONTROL and EXPERIMENT groups, revealing a similar distribution when visualized through histograms.\n",
        "\n",
        "Data Cleaning:\n",
        "\n",
        "1. Removed the duplicates by getting the unique users with thier last timestamp.\n",
        "\n",
        "2. Change the timestamp format from Unix time to datetime.\n",
        "\n",
        "3. There are no null values in the datasets (post duplicates removal)\n",
        "\n",
        "4. Identified and retained 36 outliers in the exposure_data dataset based on user_id counts below the lower bound and above the upper bound, determining their minimal impact on the overall results.\n",
        "\n",
        "\n",
        "Analyses of Confidence Intervals:\n",
        "\n",
        "* Age Analysis:\n",
        "\n",
        "  1. Female (F): The difference in response rates between the CONTROL and EXPERIMENT groups for females is estimated to be 0.0342, with a 95% confidence interval of (0.0322 - 0.0362). This indicates that the response rate in the EXPERIMENT group is significantly higher than in the CONTROL group for females.\n",
        "  2. Male (M): The difference in response rates between the CONTROL and EXPERIMENT groups for males is estimated to be 0.0073, with a 95% confidence interval of (0.0053 - 0.0093). While the confidence interval does not overlap with zero, indicating a significant difference, the effect size is smaller compared to females.\n",
        "  3. Other (O): The difference in response rates between the CONTROL and EXPERIMENT groups for others is estimated to be 0.0181, with a wider confidence interval of (0.0080 - 0.0282). This suggests a significant difference in response rates for others, but with more uncertainty compared to females and males.\n",
        "\n",
        "* Gender Analysis:\n",
        "\n",
        "  1. The confidence intervals for different age groups provide estimates of the differences in response rates between the CONTROL and EXPERIMENT groups for each age category.\n",
        "  2. Notably, the confidence intervals for age groups 18-29, 30-39, and 40-49 do not overlap with zero, indicating significant differences in response rates between the two groups for these age categories.\n",
        "  3. Age groups 50-64 and 65+ have confidence intervals that include zero, suggesting that the observed differences in response rates for these age groups may not be statistically significant at the 95% confidence level.\n",
        "  4. The effect sizes vary across age groups, with larger differences observed in younger age groups (e.g., 18-29, 30-39, 40-49) compared to older age groups (e.g., 50-64, 65+).\n",
        "\n",
        "\n",
        "  * Gender & Age Analysis:\n",
        "\n",
        "    1. Female (F): Significant differences in response rates between CONTROL and EXPERIMENT groups are observed across all age categories (18-29, 30-39, 40-49, 50-64, 65+), with confidence intervals consistently excluding zero. The largest difference is seen in the 40-49 age group.\n",
        "    2. Male (M): Differences in response rates between the two groups are significant in the 50-64 and 65+ age groups, with confidence intervals excluding zero. Other age categories exhibit smaller differences that may not be statistically significant.\n",
        "    3. Other (O): Notable differences in response rates are observed for the 18-29 and 30-39 age groups, with confidence intervals excluding zero. Unexpectedly, the 40-49 age group shows a significant difference favoring the EXPERIMENT group, while the 50-64 and 65+ age groups show non-significant differences."
      ],
      "metadata": {
        "id": "avAGIJ8y_IJo"
      }
    },
    {
      "cell_type": "markdown",
      "source": [
        "Below I have analyzed the results sliced by gender, and age, and combinations of those that you think would be interesting."
      ],
      "metadata": {
        "id": "8jU6CB1K_LPN"
      }
    },
    {
      "cell_type": "code",
      "source": [
        "# Slice by gender and group\n",
        "\n",
        "# Solicitation Rate\n",
        "\n",
        "# Calculate the number of exposed users in each gender-group combination\n",
        "exposed_users_grouped = filtered_exposure_data.groupby(['group', 'gender']).size().reset_index(name='exposed_count')\n",
        "\n",
        "# Calculate the number of exposed users who were solicited in each gender-group combination\n",
        "solicited_users_grouped = exposed_and_solicited.groupby(['group', 'gender']).size().reset_index(name='solicited_count')\n",
        "\n",
        "# Merge exposed and solicited counts by gender and group\n",
        "grouped_data = pd.merge(exposed_users_grouped, solicited_users_grouped, on=['group', 'gender'], how='left')\n",
        "\n",
        "# Calculate solicitation rate for each gender-group combination\n",
        "grouped_data['solicitation_rate'] = (grouped_data['solicited_count'] / grouped_data['exposed_count']) * 100\n",
        "\n",
        "print(\"Solicitation Rate by Gender and Group:\")\n",
        "print(grouped_data[['group', 'gender', 'solicitation_rate']])\n",
        "\n",
        "# Response Rate\n",
        "\n",
        "# Calculate the number of positive responses and total number of responses for each gender-group combination\n",
        "responses_grouped = exposed_and_responded.groupby(['group', 'gender'])['positive_response'].agg(['sum', 'count']).reset_index()\n",
        "\n",
        "# Calculate response rate for each gender-group combination\n",
        "responses_grouped['response_rate'] = (responses_grouped['sum'] / responses_grouped['count']) * 100\n",
        "\n",
        "print(\"\\nResponse Rate by Gender and Group:\")\n",
        "print(responses_grouped[['group', 'gender', 'response_rate']])"
      ],
      "metadata": {
        "colab": {
          "base_uri": "https://localhost:8080/"
        },
        "id": "ROBzha8N_Lvs",
        "outputId": "d1d334d7-b55d-4fe9-de91-41dcf2a31dac"
      },
      "execution_count": 17,
      "outputs": [
        {
          "output_type": "stream",
          "name": "stdout",
          "text": [
            "Solicitation Rate by Gender and Group:\n",
            "        group gender  solicitation_rate\n",
            "0     CONTROL      F          17.367526\n",
            "1     CONTROL      M          17.498419\n",
            "2     CONTROL      O          17.684941\n",
            "3  EXPERIMENT      F           7.446154\n",
            "4  EXPERIMENT      M           7.496799\n",
            "5  EXPERIMENT      O           7.414815\n",
            "\n",
            "Response Rate by Gender and Group:\n",
            "        group gender  response_rate\n",
            "0     CONTROL      F      11.629213\n",
            "1     CONTROL      M      11.939384\n",
            "2     CONTROL      O      12.337662\n",
            "3  EXPERIMENT      F      15.047354\n",
            "4  EXPERIMENT      M      12.666481\n",
            "5  EXPERIMENT      O      14.149660\n"
          ]
        }
      ]
    },
    {
      "cell_type": "code",
      "source": [
        "# Slice by age and group\n",
        "\n",
        "# Solicitation Rate\n",
        "\n",
        "# Calculate the number of exposed users in each gender-group combination\n",
        "exposed_users_grouped = filtered_exposure_data.groupby(['group', 'age']).size().reset_index(name='exposed_count')\n",
        "\n",
        "# Calculate the number of exposed users who were solicited in each gender-group combination\n",
        "solicited_users_grouped = exposed_and_solicited.groupby(['group', 'age']).size().reset_index(name='solicited_count')\n",
        "\n",
        "# Merge exposed and solicited counts by gender and group\n",
        "grouped_data = pd.merge(exposed_users_grouped, solicited_users_grouped, on=['group', 'age'], how='left')\n",
        "\n",
        "# Calculate solicitation rate for each gender-group combination\n",
        "grouped_data['solicitation_rate'] = (grouped_data['solicited_count'] / grouped_data['exposed_count']) * 100\n",
        "\n",
        "print(\"Solicitation Rate by Age and Group:\")\n",
        "print(grouped_data[['group', 'age', 'solicitation_rate']])\n",
        "\n",
        "# Response Rate\n",
        "\n",
        "# Calculate the number of positive responses and total number of responses for each gender-group combination\n",
        "responses_grouped = exposed_and_responded.groupby(['group', 'age'])['positive_response'].agg(['sum', 'count']).reset_index()\n",
        "\n",
        "# Calculate response rate for each gender-group combination\n",
        "responses_grouped['response_rate'] = (responses_grouped['sum'] / responses_grouped['count']) * 100\n",
        "\n",
        "print(\"\\nResponse Rate by Age and Group:\")\n",
        "print(responses_grouped[['group', 'age', 'response_rate']])"
      ],
      "metadata": {
        "colab": {
          "base_uri": "https://localhost:8080/"
        },
        "id": "gs_KUx1S_OfO",
        "outputId": "eb27bf2b-fc32-4333-80ab-b9ad1f3ba15f"
      },
      "execution_count": 18,
      "outputs": [
        {
          "output_type": "stream",
          "name": "stdout",
          "text": [
            "Solicitation Rate by Age and Group:\n",
            "        group    age  solicitation_rate\n",
            "0     CONTROL  18-29          17.352281\n",
            "1     CONTROL  30-39          17.418058\n",
            "2     CONTROL  40-49          17.551513\n",
            "3     CONTROL  50-64          17.544408\n",
            "4     CONTROL    65+          17.220676\n",
            "5  EXPERIMENT  18-29           7.423687\n",
            "6  EXPERIMENT  30-39           7.482346\n",
            "7  EXPERIMENT  40-49           7.537049\n",
            "8  EXPERIMENT  50-64           7.418535\n",
            "9  EXPERIMENT    65+           7.454341\n",
            "\n",
            "Response Rate by Age and Group:\n",
            "        group    age  response_rate\n",
            "0     CONTROL  18-29      11.243085\n",
            "1     CONTROL  30-39      11.440555\n",
            "2     CONTROL  40-49      11.936959\n",
            "3     CONTROL  50-64      12.003244\n",
            "4     CONTROL    65+      12.296783\n",
            "5  EXPERIMENT  18-29      13.097913\n",
            "6  EXPERIMENT  30-39      14.002548\n",
            "7  EXPERIMENT  40-49      15.567568\n",
            "8  EXPERIMENT  50-64      12.408558\n",
            "9  EXPERIMENT    65+      13.351360\n"
          ]
        }
      ]
    },
    {
      "cell_type": "code",
      "source": [
        "# Slice by age and gender\n",
        "\n",
        "# Solicitation Rate\n",
        "\n",
        "# Calculate the number of exposed users in each gender-group combination\n",
        "exposed_users_grouped = filtered_exposure_data.groupby(['gender', 'age']).size().reset_index(name='exposed_count')\n",
        "\n",
        "# Calculate the number of exposed users who were solicited in each gender-group combination\n",
        "solicited_users_grouped = exposed_and_solicited.groupby(['gender', 'age']).size().reset_index(name='solicited_count')\n",
        "\n",
        "# Merge exposed and solicited counts by gender and group\n",
        "grouped_data = pd.merge(exposed_users_grouped, solicited_users_grouped, on=['gender', 'age'], how='left')\n",
        "\n",
        "# Calculate solicitation rate for each gender-group combination\n",
        "grouped_data['solicitation_rate'] = (grouped_data['solicited_count'] / grouped_data['exposed_count']) * 100\n",
        "\n",
        "print(\"Solicitation Rate by Age and Gender:\")\n",
        "print(grouped_data[['gender', 'age', 'solicitation_rate']])\n",
        "\n",
        "# Response Rate\n",
        "\n",
        "# Calculate the number of positive responses and total number of responses for each gender-group combination\n",
        "responses_grouped = exposed_and_responded.groupby(['gender', 'age'])['positive_response'].agg(['sum', 'count']).reset_index()\n",
        "\n",
        "# Calculate response rate for each gender-group combination\n",
        "responses_grouped['response_rate'] = (responses_grouped['sum'] / responses_grouped['count']) * 100\n",
        "\n",
        "print(\"\\nResponse Rate by Age and Gender:\")\n",
        "print(responses_grouped[['gender', 'age', 'response_rate']])"
      ],
      "metadata": {
        "colab": {
          "base_uri": "https://localhost:8080/"
        },
        "id": "ZE1ahfQO_QFD",
        "outputId": "7b407b6b-dfc3-4141-f1b3-bac7e490a5f0"
      },
      "execution_count": 19,
      "outputs": [
        {
          "output_type": "stream",
          "name": "stdout",
          "text": [
            "Solicitation Rate by Age and Gender:\n",
            "   gender    age  solicitation_rate\n",
            "0       F  18-29          10.417066\n",
            "1       F  30-39          10.381992\n",
            "2       F  40-49          10.439532\n",
            "3       F  50-64          10.534979\n",
            "4       F    65+          10.304980\n",
            "5       M  18-29          10.339263\n",
            "6       M  30-39          10.525920\n",
            "7       M  40-49          10.655301\n",
            "8       M  50-64          10.412478\n",
            "9       M    65+          10.473714\n",
            "10      O  18-29          10.985507\n",
            "11      O  30-39          10.091027\n",
            "12      O  40-49          10.348545\n",
            "13      O  50-64          10.920824\n",
            "14      O    65+          10.300158\n",
            "\n",
            "Response Rate by Age and Gender:\n",
            "   gender    age  response_rate\n",
            "0       F  18-29      12.277260\n",
            "1       F  30-39      14.120235\n",
            "2       F  40-49      14.862552\n",
            "3       F  50-64      11.991138\n",
            "4       F    65+      12.632509\n",
            "5       M  18-29      11.915107\n",
            "6       M  30-39      11.500436\n",
            "7       M  40-49      12.676753\n",
            "8       M  50-64      12.340126\n",
            "9       M    65+      12.956582\n",
            "10      O  18-29      15.636364\n",
            "11      O  30-39       9.318996\n",
            "12      O  40-49      12.926829\n",
            "13      O  50-64      14.052288\n",
            "14      O    65+      14.468085\n"
          ]
        }
      ]
    },
    {
      "cell_type": "markdown",
      "source": [
        "Solicitation Rate Analysis:\n",
        "* By Gender and Group:\n",
        "\n",
        " * Both control and experiment groups exhibit similar solicitation rates across genders, with rates hovering around 17% for male and female participants, and slightly higher for others (gender 'O'), with rates near 17.5%.\n",
        " * However, the solicitation rates for the experiment group are notably lower than those for the control group, with rates approximately half as much.\n",
        "\n",
        "* By Age and Group:\n",
        "\n",
        " * Solicitation rates show consistency across different age groups within the same experimental condition. For instance, both the control and experiment groups demonstrate similar solicitation rates across various age ranges.\n",
        " * Interestingly, regardless of the experimental condition, the solicitation rates appear to slightly decrease as age increases.\n",
        "\n",
        "* By Age and Gender:\n",
        "\n",
        " * Solicitation rates demonstrate uniformity across genders within the same age bracket. For each age category, the solicitation rates for all genders (F, M, O) are nearly equivalent.\n",
        " * This suggests that gender does not significantly affect solicitation rates across different age groups.\n",
        "\n",
        "Response Rate Analysis:\n",
        "* By Gender and Group:\n",
        "\n",
        " * Response rates show variation across different genders within the same experimental condition. For instance, in the experiment group, females exhibit the highest response rate, followed by others and males.\n",
        " * However, in the control group, males demonstrate the highest response rate, followed by females and others.\n",
        "\n",
        "* By Age and Group:\n",
        "\n",
        " * Response rates depict variation across different age groups within the same experimental condition. For instance, in the experiment group, individuals aged 40-49 show the highest response rate, followed by those aged 18-29 and 50-64.\n",
        " * Conversely, in the control group, individuals aged 40-49 exhibit the highest response rate, followed by those aged 50-64 and 30-39.\n",
        "\n",
        "* By Age and Gender:\n",
        "\n",
        " * Response rates showcase differences across various age and gender combinations. For example, within the 18-29 age group, others (gender 'O') exhibit the highest response rate, followed by females and males.\n",
        " * Similarly, within the 30-39 age group, females demonstrate the highest response rate, followed by others and males."
      ],
      "metadata": {
        "id": "0QRXLKTb_S_0"
      }
    },
    {
      "cell_type": "markdown",
      "source": [
        "Finally, analyzing covariate imbalance for age and gender, discussing the findings and how this might impact the experiment results."
      ],
      "metadata": {
        "id": "lR7s1YDp_WxA"
      }
    },
    {
      "cell_type": "code",
      "source": [
        "# merging all datasets (filtered)\n",
        "\n",
        "merged_data = pd.merge(filtered_exposure_data, filtered_solicitation_data, on = 'user_id', how = 'outer')\n",
        "merged_data = pd.merge(merged_data, filtered_response_data, on = 'user_id', how = 'outer')\n",
        "\n",
        "# Covariate Imbalance Analyses\n",
        "\n",
        "print('Gender:')\n",
        "print(pd.crosstab(merged_data['group'], merged_data['gender'], normalize=\"index\"))\n",
        "\n",
        "print('\\nAge')\n",
        "print(pd.crosstab(merged_data['group'], merged_data['age'], normalize=\"index\"))"
      ],
      "metadata": {
        "colab": {
          "base_uri": "https://localhost:8080/"
        },
        "id": "veIuCQ93_XKF",
        "outputId": "cbb8f9f5-3688-48a1-97c5-d7f37262e0c8"
      },
      "execution_count": 20,
      "outputs": [
        {
          "output_type": "stream",
          "name": "stdout",
          "text": [
            "Gender:\n",
            "gender             F         M         O\n",
            "group                                   \n",
            "CONTROL     0.489829  0.489993  0.020178\n",
            "EXPERIMENT  0.490178  0.489820  0.020002\n",
            "\n",
            "Age\n",
            "age            18-29     30-39     40-49     50-64       65+\n",
            "group                                                       \n",
            "CONTROL     0.169283  0.188978  0.278777  0.202582  0.160380\n",
            "EXPERIMENT  0.170335  0.190597  0.278635  0.200210  0.160223\n"
          ]
        }
      ]
    },
    {
      "cell_type": "markdown",
      "source": [
        "Gender Imbalance Analysis:\n",
        "* The distribution of gender across the CONTROL and EXPERIMENT groups appears to be very similar.\n",
        "* In both groups, females and males constitute nearly equal proportions, with a small fraction categorized as 'Other' (gender 'O').\n",
        "* This indicates a minimal covariate imbalance concerning gender between the two groups, suggesting that gender is unlikely to confound the comparison between the CONTROL and EXPERIMENT groups significantly.\n",
        "\n",
        "Age Imbalance Analysis:\n",
        "* The distribution of age across the CONTROL and EXPERIMENT groups is also quite similar.\n",
        "* Across both groups, the proportions of participants in each age category (18-29, 30-39, 40-49, 50-64, 65+) are relatively consistent.\n",
        "* There are no drastic differences in the age distributions between the CONTROL and EXPERIMENT groups, indicating minimal covariate imbalance concerning age.\n",
        "\n",
        "Overall Covariate Imbalance Assessment:\n",
        "* Both gender and age distributions show minimal disparities between the CONTROL and EXPERIMENT groups.\n",
        "* This suggests that the experimental treatment allocation has resulted in fairly balanced groups with respect to these covariates.\n",
        "* The minimal covariate imbalance enhances the comparability of the two groups and reduces the likelihood of bias in the study's outcomes."
      ],
      "metadata": {
        "id": "r2smv9XG_aGJ"
      }
    },
    {
      "cell_type": "markdown",
      "source": [
        "Frequency is an another feature that we can compute from the data and then handle exactly like other covariates such as age and gender.  "
      ],
      "metadata": {
        "id": "aHFqpIfy_eHm"
      }
    },
    {
      "cell_type": "code",
      "source": [
        "# Merging the datasets (with duplicates)\n",
        "merged_data = pd.merge(exposure_data, solicitation_data, on = 'user_id', how = 'left')\n",
        "merged_data = pd.merge(merged_data, response_data, on = 'user_id', how = 'left')\n",
        "\n",
        "# Compute frequency as the count of occurrences of each user_id\n",
        "user_frequency = merged_data['user_id'].value_counts()\n",
        "\n",
        "# Map frequency to each user_id\n",
        "merged_data['frequency'] = merged_data['user_id'].map(user_frequency)\n",
        "\n",
        "# Response Rate by Frequency\n",
        "\n",
        "# # response_rate_by_frequency = response_data[response_data['frequency'] < 6].groupby(['frequency', 'group'])['positive_response'].mean() * 100\n",
        "\n",
        "response_rate_by_frequency = merged_data.groupby(['group', 'frequency'])['positive_response'].mean() * 100\n",
        "\n",
        "print(\"\\nResponse Rate by Group & Frequency:\")\n",
        "print(response_rate_by_frequency)"
      ],
      "metadata": {
        "colab": {
          "base_uri": "https://localhost:8080/"
        },
        "id": "_hHWZyNJ_YWD",
        "outputId": "73d5238c-1ecd-4e2b-d12e-ad29ad4a66dd"
      },
      "execution_count": 21,
      "outputs": [
        {
          "output_type": "stream",
          "name": "stdout",
          "text": [
            "\n",
            "Response Rate by Group & Frequency:\n",
            "group       frequency\n",
            "CONTROL     1            11.468140\n",
            "            2            12.052550\n",
            "            3            11.828304\n",
            "            4            12.052430\n",
            "            5            11.489899\n",
            "            258                NaN\n",
            "            274                NaN\n",
            "            333                NaN\n",
            "            336                NaN\n",
            "            586                NaN\n",
            "            915                NaN\n",
            "            1185               NaN\n",
            "            1762               NaN\n",
            "            1784               NaN\n",
            "            1881               NaN\n",
            "            2186               NaN\n",
            "            2558               NaN\n",
            "            3027               NaN\n",
            "            3298               NaN\n",
            "            3904               NaN\n",
            "            4525               NaN\n",
            "            5014               NaN\n",
            "            5244               NaN\n",
            "            5261               NaN\n",
            "            5527               NaN\n",
            "            5746               NaN\n",
            "            6541               NaN\n",
            "            6652               NaN\n",
            "            6774               NaN\n",
            "            6823               NaN\n",
            "            7295               NaN\n",
            "            7527               NaN\n",
            "            7546               NaN\n",
            "            7736               NaN\n",
            "            7877               NaN\n",
            "            8831               NaN\n",
            "            8856               NaN\n",
            "            9197               NaN\n",
            "            9967               NaN\n",
            "EXPERIMENT  1            12.926489\n",
            "            2            14.433747\n",
            "            3            14.608000\n",
            "            4            13.775346\n",
            "            5            13.766234\n",
            "Name: positive_response, dtype: float64\n"
          ]
        }
      ]
    },
    {
      "cell_type": "code",
      "source": [
        "# Merge exposure_data with solicitation_data to determine solicited users\n",
        "merged_data = pd.merge(exposure_data, solicitation_data, on='user_id', how='left')\n",
        "\n",
        "# Count the frequency of exposure for each user\n",
        "user_frequency = merged_data['user_id'].value_counts()\n",
        "\n",
        "# Map frequency to each user\n",
        "merged_data['frequency'] = merged_data['user_id'].map(user_frequency)\n",
        "\n",
        "# Calculate solicitation rate grouped by group and frequency\n",
        "solicitation_rate = merged_data.groupby(['group', 'frequency']).apply(\n",
        "    lambda x: (x['timestamp_y'].notnull()).mean() * 100,\n",
        "    include_groups=False\n",
        ")\n",
        "\n",
        "print(\"Solicitation Rate by Group and Frequency:\")\n",
        "print(solicitation_rate)"
      ],
      "metadata": {
        "colab": {
          "base_uri": "https://localhost:8080/"
        },
        "id": "U3SyFQeg_hBD",
        "outputId": "00847390-fcd3-4753-97a2-0530cf6b6b75"
      },
      "execution_count": 22,
      "outputs": [
        {
          "output_type": "stream",
          "name": "stdout",
          "text": [
            "Solicitation Rate by Group and Frequency:\n",
            "group       frequency\n",
            "CONTROL     1            16.659028\n",
            "            2            17.565651\n",
            "            3            18.312029\n",
            "            4            18.377208\n",
            "            5            18.864198\n",
            "            258           0.000000\n",
            "            274           0.000000\n",
            "            333           0.000000\n",
            "            336           0.000000\n",
            "            586           0.000000\n",
            "            915           0.000000\n",
            "            1185          0.000000\n",
            "            1762          0.000000\n",
            "            1784          0.000000\n",
            "            1881          0.000000\n",
            "            2186          0.000000\n",
            "            2558          0.000000\n",
            "            3027          0.000000\n",
            "            3298          0.000000\n",
            "            3904          0.000000\n",
            "            4525          0.000000\n",
            "            5014          0.000000\n",
            "            5244          0.000000\n",
            "            5261          0.000000\n",
            "            5527          0.000000\n",
            "            5746          0.000000\n",
            "            6541          0.000000\n",
            "            6652          0.000000\n",
            "            6774          0.000000\n",
            "            6823          0.000000\n",
            "            7295          0.000000\n",
            "            7527          0.000000\n",
            "            7546          0.000000\n",
            "            7736          0.000000\n",
            "            7877          0.000000\n",
            "            8831          0.000000\n",
            "            8856          0.000000\n",
            "            9197          0.000000\n",
            "            9967          0.000000\n",
            "EXPERIMENT  1             7.117197\n",
            "            2             7.479648\n",
            "            3             7.922545\n",
            "            4             8.019263\n",
            "            5             8.016275\n",
            "dtype: float64\n"
          ]
        }
      ]
    },
    {
      "cell_type": "markdown",
      "source": [
        "Solicitation Rate by Frequency:\n",
        "\n",
        "* The solicitation rates for both the CONTROL and EXPERIMENT groups show an increasing trend with higher frequencies, suggesting that users with more exposures are more likely to be solicited.\n",
        "* However, the solicitation rates for the EXPERIMENT group are consistently lower compared to the CONTROL group across all frequency levels.\n",
        "\n",
        "Response Rate by Frequency:\n",
        "\n",
        "* the response rates for the EXPERIMENT group tend to increase slightly with higher frequencies, indicating that more exposures may lead to a higher likelihood of response.\n",
        "* On the other hand, the response rates for the CONTROL group also tend to increase if the users in the group are exposed to advertisement.\n",
        "\n",
        "We should ask a question, should a publisher set a frequency cap of one exposure per user in order to maximize reach?  Or should they adopt a different strategy?\n",
        "\n",
        "Recommendation:\n",
        "\n",
        "* Based on these findings, the brand should consider adjusting their strategy to balance reach and frequency.\n",
        "* While increasing exposure frequency may lead to higher solicitation rates, it's important to optimize response rates as well.\n",
        "* A frequency cap should be set for the exposure per user could be considered to maximize reach while avoiding overwhelming users with excessive solicitation.\n",
        "* Alternatively, the brand could explore other strategies such as targeted messaging or personalized campaigns to improve response rates without overly increasing exposure frequency.\n",
        "* Ultimately, the optimal approach may vary depending on the specific goals and target audience of the campaign."
      ],
      "metadata": {
        "id": "Xxy5mX1U_iux"
      }
    }
  ]
}